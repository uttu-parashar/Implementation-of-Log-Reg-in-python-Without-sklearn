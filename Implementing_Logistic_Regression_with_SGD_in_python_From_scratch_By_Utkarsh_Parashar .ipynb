{
 "cells": [
  {
   "cell_type": "markdown",
   "metadata": {
    "colab_type": "text",
    "id": "gcz5_UqCSvnq"
   },
   "source": [
    " "
   ]
  },
  {
   "cell_type": "markdown",
   "metadata": {
    "colab_type": "text",
    "id": "UOBvEchCSvnr"
   },
   "source": [
    "## Implementing Logistc Regression with L2 regularization Using SGD In python From Scratch."
   ]
  },
  {
   "cell_type": "code",
   "execution_count": 19,
   "metadata": {
    "colab": {},
    "colab_type": "code",
    "id": "Fpz8X5DMSvn2"
   },
   "outputs": [],
   "source": [
    "w = np.zeros_like(X_train[0])\n",
    "b = 0\n",
    "eta0  = 0.0001\n",
    "alpha = 0.0001\n",
    "N_xtrain = len(X_train)\n",
    "N_xtest = len(X_test)"
   ]
  },
  {
   "cell_type": "code",
   "execution_count": 20,
   "metadata": {
    "colab": {},
    "colab_type": "code",
    "id": "B6Y5kVscSvn5"
   },
   "outputs": [],
   "source": [
    "def sigmoid_func(x,w,b):\n",
    "    z = (np.dot(x,w))+b\n",
    "    return 1/(1+np.exp(-(z)))"
   ]
  },
  {
   "cell_type": "markdown",
   "metadata": {},
   "source": [
    "######  Initial log_losss for train and test data."
   ]
  },
  {
   "cell_type": "code",
   "execution_count": 21,
   "metadata": {},
   "outputs": [
    {
     "name": "stdout",
     "output_type": "stream",
     "text": [
      "Initial Train_loss is : 0.6931471805594285 \n",
      "Initial Test_loss is : 0.23104906018668908\n"
     ]
    }
   ],
   "source": [
    "import math\n",
    "\n",
    "Y_train_pred = sigmoid_func(X_train,w,b)\n",
    "Y_test_pred = sigmoid_func(X_test,w,b)\n",
    "\n",
    "Train_loss,Test_loss = 0,0\n",
    "\n",
    "for x in range(len(Y_train_pred)):\n",
    "    Train_loss+=-((y_train[x]*(math.log(Y_train_pred[x])))+ ((1-y_train[x])*(math.log(1-Y_train_pred[x]))))\n",
    "for y in range(len(Y_test_pred)):\n",
    "    Test_loss+=-((y_test[y]*(math.log(Y_test_pred[y])))+ ((1-y_test[y])*(math.log(1-Y_test_pred[y]))))\n",
    "\n",
    "print(\"Initial Train_loss is :\",(Train_loss)/N,\"\\nInitial Test_loss is :\",(Test_loss)/N)"
   ]
  },
  {
   "cell_type": "markdown",
   "metadata": {},
   "source": [
    "##### Finding opimal 'w' and 'b'"
   ]
  },
  {
   "cell_type": "code",
   "execution_count": 23,
   "metadata": {},
   "outputs": [
    {
     "name": "stderr",
     "output_type": "stream",
     "text": [
      "100%|████████████████████████████████████████████████████████████████████████████████| 100/100 [01:52<00:00,  1.12s/it]\n"
     ]
    }
   ],
   "source": [
    "from tqdm import tqdm\n",
    "import math\n",
    "\n",
    "final_train_loss_list= []\n",
    "final_test_loss_list = []\n",
    "epochs = 100\n",
    "\n",
    "for i in tqdm(range(epochs)):\n",
    "    for j in range(len(X_train)):\n",
    "        \n",
    "        # Finding optimal 'w'\n",
    "        w = ((1-((eta0*alpha)/N)) * w)+((alpha*X_train[j])*(y_train[j]-sigmoid_func(w,X_train[j],b)))\n",
    "        \n",
    "        # Finding optimal 'b'\n",
    "        b = b+eta0*(y_train[j]-sigmoid_func(w,X_train[j],b))\n",
    "        \n",
    "    Y_train_pred = sigmoid_func(X_train,w,b)\n",
    "    Y_test_pred = sigmoid_func(X_test,w,b)\n",
    "    \n",
    "    Train_loss,Test_loss = 0,0\n",
    "    \n",
    "    for x in range(len(Y_train_pred)):\n",
    "        Train_loss+=-((y_train[x]*(math.log(Y_train_pred[x])))+ ((1-y_train[x])*(math.log(1-Y_train_pred[x]))))\n",
    "    \n",
    "    for y in range(len(Y_test_pred)):\n",
    "        Test_loss+=-((y_test[y]*(math.log(Y_test_pred[y])))+ ((1-y_test[y])*(math.log(1-Y_test_pred[y]))))\n",
    "    \n",
    "    Train_loss = Train_loss/N_xtrain\n",
    "    Test_loss = Test_loss/N_xtest\n",
    "    \n",
    "    final_train_loss_list.append(Train_loss)\n",
    "    final_test_loss_list.append(Test_loss)\n",
    "\n"
   ]
  },
  {
   "cell_type": "code",
   "execution_count": 24,
   "metadata": {},
   "outputs": [
    {
     "name": "stdout",
     "output_type": "stream",
     "text": [
      "[-4.29756022e-01  1.93023835e-01 -1.48464492e-01  3.38103414e-01\n",
      " -2.21229065e-01  5.69932661e-01 -4.45183637e-01 -8.99209544e-02\n",
      "  2.21804886e-01  1.73809503e-01  1.98727752e-01 -5.59489815e-04\n",
      " -8.13106734e-02  3.39094300e-01  2.29785009e-02] \n",
      "B is -0.8918931649054604\n"
     ]
    }
   ],
   "source": [
    "print(w,\"\\nB is\",b)"
   ]
  },
  {
   "cell_type": "markdown",
   "metadata": {},
   "source": [
    "#### Ploting train_loss & Test_loss."
   ]
  },
  {
   "cell_type": "code",
   "execution_count": 27,
   "metadata": {},
   "outputs": [
    {
     "data": {
      "image/png": "[encoded data removed]",
      "text/plain": [
       "<Figure size 432x288 with 1 Axes>"
      ]
     },
     "metadata": {},
     "output_type": "display_data"
    }
   ],
   "source": [
    "import matplotlib.pyplot as plt\n",
    "\n",
    "plt.plot(final_train_loss_list, label='Train_log_loss')\n",
    "plt.plot(final_test_loss_list, label='Test_log_loss')\n",
    "plt.grid()\n",
    "plt.xlabel(\"NO. of Epochs\")\n",
    "plt.ylabel(\"Log_loss\")\n",
    "plt.legend()\n",
    "plt.title('Log_loss vs Epochs')\n",
    "plt.show()"
   ]
  },
  {
   "cell_type": "code",
   "execution_count": 28,
   "metadata": {},
   "outputs": [
    {
     "name": "stdout",
     "output_type": "stream",
     "text": [
      "Final Train_loss is : 0.3782234075242279 \n",
      "Final Test_loss is : 0.1267385385592187\n"
     ]
    }
   ],
   "source": [
    "# Calculating train & test_loss with optimized 'w' and 'b'\n",
    "\n",
    "Y_train_pred = sigmoid_func(X_train,w,b)\n",
    "Y_test_pred = sigmoid_func(X_test,w,b)\n",
    "\n",
    "Train_loss,Test_loss = 0,0\n",
    "\n",
    "for x in range(len(Y_train_pred)):\n",
    "    Train_loss+=-((y_train[x]*(math.log(Y_train_pred[x])))+ ((1-y_train[x])*(math.log(1-Y_train_pred[x]))))\n",
    "for y in range(len(Y_test_pred)):\n",
    "    Test_loss+=-((y_test[y]*(math.log(Y_test_pred[y])))+ ((1-y_test[y])*(math.log(1-Y_test_pred[y]))))\n",
    "\n",
    "print(\"Final Train_loss is :\",(Train_loss)/N,\"\\nFinal Test_loss is :\",(Test_loss)/N)"
   ]
  },
  {
   "cell_type": "code",
   "execution_count": 29,
   "metadata": {
    "colab": {},
    "colab_type": "code",
    "id": "48gx6wQKSvoE",
    "outputId": "73838465-1f8e-4697-fe22-c49a816e1207"
   },
   "outputs": [
    {
     "name": "stdout",
     "output_type": "stream",
     "text": [
      "Train Accuracy with optimized w is : 0.95224\n",
      "Train Accuracy with optimized w is : 0.95\n"
     ]
    }
   ],
   "source": [
    "def pred(w,b, X):\n",
    "    N = len(X)\n",
    "    predict = []\n",
    "    for i in range(N):\n",
    "        if sigmoid_func(w, X[i], b) >= 0.5: # sigmoid(w,x,b) returns 1/(1+exp(-(dot(x,w)+b)))\n",
    "            predict.append(1)\n",
    "        else:\n",
    "            predict.append(0)\n",
    "    return np.array(predict)\n",
    "print(\"Train Accuracy with optimized w is :\",1-np.sum(y_train - pred(w,b,X_train))/len(X_train))\n",
    "print(\"Train Accuracy with optimized w is :\",1-np.sum(y_test  - pred(w,b,X_test))/len(X_test))"
   ]
  },
  {
   "cell_type": "markdown",
   "metadata": {},
   "source": [
    "## Thanks For Coming..!! :) "
   ]
  }
 ],
 "metadata": {
  "colab": {
   "collapsed_sections": [],
   "name": "Logistic Regression using SGD.ipynb",
   "provenance": []
  },
  "kernelspec": {
   "display_name": "Python 3",
   "language": "python",
   "name": "python3"
  },
  "language_info": {
   "codemirror_mode": {
    "name": "ipython",
    "version": 3
   },
   "file_extension": ".py",
   "mimetype": "text/x-python",
   "name": "python",
   "nbconvert_exporter": "python",
   "pygments_lexer": "ipython3",
   "version": "3.7.6"
  }
 },
 "nbformat": 4,
 "nbformat_minor": 1
}
